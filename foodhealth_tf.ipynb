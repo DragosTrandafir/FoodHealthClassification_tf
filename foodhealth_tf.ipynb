{
 "cells": [
  {
   "cell_type": "code",
   "execution_count": 2,
   "id": "bb686513-c43a-499c-ad90-1a23c59d478d",
   "metadata": {},
   "outputs": [],
   "source": [
    "import numpy as np # arrays & loading data\n",
    "\n",
    "from sklearn.model_selection import train_test_split # we will split the data in 3 (training + counter variation + testing data)\n",
    "from sklearn.preprocessing import StandardScaler # z-score normalization & polynomianls classes \n",
    "\n",
    "import tensorflow as tf # for building and training neural networks"
   ]
  },
  {
   "cell_type": "code",
   "execution_count": 5,
   "id": "97cd937f-f178-4afe-bd8f-b075ffb4d6d0",
   "metadata": {},
   "outputs": [
    {
     "name": "stdout",
     "output_type": "stream",
     "text": [
      "shape of input X is: (25, 3)\n",
      "shape of output y is: (25, 1)\n"
     ]
    }
   ],
   "source": [
    "# loading all the data\n",
    "data = np.loadtxt('./food_data.csv', delimiter=',', skiprows=1, usecols=range(1, 5))\n",
    "\n",
    "X = data[:,:-1] # forming the input and output \n",
    "y= data[:,-1]\n",
    "\n",
    "y= np.expand_dims(y, axis=1) # make y 2D - the commands later will require it\n",
    "\n",
    "print(f\"shape of input X is: {X.shape}\")\n",
    "print(f\"shape of output y is: {y.shape}\")"
   ]
  },
  {
   "cell_type": "code",
   "execution_count": null,
   "id": "f5ba29e0-6f81-4e6c-83e1-37f318bb9e46",
   "metadata": {},
   "outputs": [],
   "source": []
  }
 ],
 "metadata": {
  "kernelspec": {
   "display_name": "Python 3 (ipykernel)",
   "language": "python",
   "name": "python3"
  },
  "language_info": {
   "codemirror_mode": {
    "name": "ipython",
    "version": 3
   },
   "file_extension": ".py",
   "mimetype": "text/x-python",
   "name": "python",
   "nbconvert_exporter": "python",
   "pygments_lexer": "ipython3",
   "version": "3.12.0"
  }
 },
 "nbformat": 4,
 "nbformat_minor": 5
}
