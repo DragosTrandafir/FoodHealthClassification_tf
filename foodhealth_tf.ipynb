{
 "cells": [
  {
   "cell_type": "code",
   "execution_count": 22,
   "id": "bb686513-c43a-499c-ad90-1a23c59d478d",
   "metadata": {},
   "outputs": [],
   "source": [
    "import numpy as np # arrays & loading data\n",
    "\n",
    "from sklearn.model_selection import train_test_split # we will split the data in 3 (training + counter variation + testing data)\n",
    "from sklearn.preprocessing import StandardScaler # z-score normalization & polynomianls classes \n",
    "\n",
    "import tensorflow as tf # for building and training neural networks\n",
    "\n",
    "from utils import build_models "
   ]
  },
  {
   "cell_type": "code",
   "execution_count": 23,
   "id": "97cd937f-f178-4afe-bd8f-b075ffb4d6d0",
   "metadata": {},
   "outputs": [
    {
     "name": "stdout",
     "output_type": "stream",
     "text": [
      "shape of input X is: (25, 5)\n",
      "shape of output y is: (25, 1)\n"
     ]
    }
   ],
   "source": [
    "# loading all the data\n",
    "data = np.loadtxt('./food_data.csv', delimiter=',', skiprows=1, usecols=range(1, 7))\n",
    "\n",
    "X = data[:,:-1] # forming the input and output \n",
    "y= data[:,-1]\n",
    "\n",
    "y= np.expand_dims(y, axis=1) # make y 2D - the commands later will require it\n",
    "\n",
    "print(f\"shape of input X is: {X.shape}\")\n",
    "print(f\"shape of output y is: {y.shape}\")"
   ]
  },
  {
   "cell_type": "code",
   "execution_count": 24,
   "id": "f5ba29e0-6f81-4e6c-83e1-37f318bb9e46",
   "metadata": {},
   "outputs": [
    {
     "name": "stdout",
     "output_type": "stream",
     "text": [
      "training input shape:(15, 5)\n",
      "training output shape:(15, 1)\n",
      "cv input shape:(5, 5)\n",
      "cv output shape:(5, 1)\n",
      "test input shape:(5, 5)\n",
      "test output shape:(5, 1)\n"
     ]
    }
   ],
   "source": [
    "# split into training , cross validation and test sets\n",
    "\n",
    "# TRAINING SET - 60%\n",
    "X_train, X_temporary, y_train, y_temporary = train_test_split(X, y, test_size=0.40, random_state=1)\n",
    "\n",
    "# the rest of 40% - CV SET(20%) and TEST SET(20%)\n",
    "X_cv, X_test, y_cv, y_test = train_test_split(X_temporary, y_temporary, test_size=0.50, random_state=1)\n",
    "del X_temporary, y_temporary\n",
    "\n",
    "print(f\"training input shape:{X_train.shape}\")\n",
    "print(f\"training output shape:{y_train.shape}\")\n",
    "print(f\"cv input shape:{X_cv.shape}\")\n",
    "print(f\"cv output shape:{y_cv.shape}\")\n",
    "print(f\"test input shape:{X_test.shape}\")\n",
    "print(f\"test output shape:{y_test.shape}\")"
   ]
  },
  {
   "cell_type": "code",
   "execution_count": 25,
   "id": "45b0f7db-8b39-4be6-be91-78f8ed612c82",
   "metadata": {},
   "outputs": [
    {
     "name": "stdout",
     "output_type": "stream",
     "text": [
      "[[ 8.40496830e-02  1.98211614e-01 -6.69481473e-01 -5.46857927e-01\n",
      "   3.04717808e+00]\n",
      " [-6.28410775e-01 -5.45081938e-01 -4.65652391e-01 -2.22223254e-01\n",
      "  -5.85199668e-01]\n",
      " [-6.07759747e-01 -5.28227209e-01 -3.60098045e-01 -2.26551717e-01\n",
      "  -5.09839134e-01]\n",
      " [ 9.10090793e-01 -1.57423169e-01  6.95445416e-01 -5.59843314e-01\n",
      "  -1.48108570e-01]\n",
      " [-6.07759747e-01 -5.45081938e-01 -5.05690246e-01 -3.65062510e-01\n",
      "  -5.55055454e-01]\n",
      " [-2.25715733e-01 -5.11372480e-01 -6.14884397e-01 -5.33872540e-01\n",
      "   2.61249852e-03]\n",
      " [-5.87108719e-01 -5.28227209e-01 -6.18524202e-01 -3.60734048e-01\n",
      "  -5.85199668e-01]\n",
      " [ 1.63287677e+00  2.05054634e+00 -7.71396014e-01 -5.42529465e-01\n",
      "   1.60025582e+00]\n",
      " [-5.35481150e-01 -4.43953563e-01 -6.14884397e-01 -3.56405586e-01\n",
      "  -1.48108570e-01]\n",
      " [-1.22460595e-01  2.47090328e-01  2.84293039e+00  3.19293350e+00\n",
      "  -6.30415988e-01]\n",
      " [ 2.89258946e+00  2.82586387e+00  1.37244915e+00  1.65632938e+00\n",
      "  -7.27480356e-02]\n",
      " [-2.99026882e-01 -4.27098834e-01  1.04486670e+00 -3.86271976e-01\n",
      "   4.90948760e-01]\n",
      " [-6.38736289e-01 -5.45081938e-01 -6.51282448e-01 -4.17004058e-01\n",
      "  -6.60560202e-01]\n",
      " [-6.38736289e-01 -5.45081938e-01 -4.32894146e-01 -1.83267094e-01\n",
      "  -6.45488095e-01]\n",
      " [-6.28410775e-01 -5.45081938e-01 -2.50903894e-01 -1.48639395e-01\n",
      "  -6.00271775e-01]]\n"
     ]
    }
   ],
   "source": [
    "# TRAINING DATA, CV DATA & TEST DATA OPERATIONS\n",
    "# applying z-score to all the training data - make it compact for the algorithms to work better\n",
    "standard_scaler = StandardScaler()\n",
    "X_train_scaled = standard_scaler.fit_transform(X_train)\n",
    "X_cv_scaled = standard_scaler.transform(X_cv) \n",
    "X_test_scaled = standard_scaler.transform(X_test)\n",
    "print(X_train_scaled)"
   ]
  },
  {
   "cell_type": "code",
   "execution_count": 27,
   "id": "842434c0-ee1b-425f-b43c-08c32f86cd9a",
   "metadata": {},
   "outputs": [
    {
     "name": "stdout",
     "output_type": "stream",
     "text": [
      "\u001b[1m1/1\u001b[0m \u001b[32m━━━━━━━━━━━━━━━━━━━━\u001b[0m\u001b[37m\u001b[0m \u001b[1m0s\u001b[0m 38ms/step\n",
      "\u001b[1m1/1\u001b[0m \u001b[32m━━━━━━━━━━━━━━━━━━━━\u001b[0m\u001b[37m\u001b[0m \u001b[1m0s\u001b[0m 47ms/step\n",
      "\u001b[1m1/1\u001b[0m \u001b[32m━━━━━━━━━━━━━━━━━━━━\u001b[0m\u001b[37m\u001b[0m \u001b[1m0s\u001b[0m 53ms/step\n",
      "\u001b[1m1/1\u001b[0m \u001b[32m━━━━━━━━━━━━━━━━━━━━\u001b[0m\u001b[37m\u001b[0m \u001b[1m0s\u001b[0m 47ms/step\n",
      "\u001b[1m1/1\u001b[0m \u001b[32m━━━━━━━━━━━━━━━━━━━━\u001b[0m\u001b[37m\u001b[0m \u001b[1m0s\u001b[0m 38ms/step\n",
      "\u001b[1m1/1\u001b[0m \u001b[32m━━━━━━━━━━━━━━━━━━━━\u001b[0m\u001b[37m\u001b[0m \u001b[1m0s\u001b[0m 47ms/step\n",
      "\u001b[1m1/1\u001b[0m \u001b[32m━━━━━━━━━━━━━━━━━━━━\u001b[0m\u001b[37m\u001b[0m \u001b[1m0s\u001b[0m 31ms/step\n",
      "\u001b[1m1/1\u001b[0m \u001b[32m━━━━━━━━━━━━━━━━━━━━\u001b[0m\u001b[37m\u001b[0m \u001b[1m0s\u001b[0m 31ms/step\n",
      "\u001b[1m1/1\u001b[0m \u001b[32m━━━━━━━━━━━━━━━━━━━━\u001b[0m\u001b[37m\u001b[0m \u001b[1m0s\u001b[0m 31ms/step\n",
      "\u001b[1m1/1\u001b[0m \u001b[32m━━━━━━━━━━━━━━━━━━━━\u001b[0m\u001b[37m\u001b[0m \u001b[1m0s\u001b[0m 31ms/step\n",
      "Model 1: Training Set Classification Error: 0.00000, CV Set Classification Error: 0.20000\n",
      "Model 2: Training Set Classification Error: 0.00000, CV Set Classification Error: 0.20000\n",
      "Model 3: Training Set Classification Error: 0.00000, CV Set Classification Error: 0.20000\n",
      "Model 4: Training Set Classification Error: 0.00000, CV Set Classification Error: 0.20000\n",
      "Model 5: Training Set Classification Error: 0.00000, CV Set Classification Error: 0.20000\n"
     ]
    }
   ],
   "source": [
    "# calculate errors for some models and chose the one with the best neural network\n",
    "train_errors=[]\n",
    "cv_errors=[]    # initialize lists that will contain a history of error numbers at each iteration\n",
    "\n",
    "# this is the list of all the models we will check\n",
    "models = build_models()\n",
    "\n",
    "#loop through all the models\n",
    "for model in models:\n",
    "    # compile - set the loss and optimizer\n",
    "    model.compile(\n",
    "        # this is similar to gradient descent, but it is a much improved version\n",
    "        loss=tf.keras.losses.BinaryCrossentropy(from_logits=True), # BC - binary class & from_logits helps our calculations be more accurate\n",
    "        optimizer=tf.keras.optimizers.Adam(learning_rate=0.01), # preimplemented optimizer\n",
    "    )\n",
    "    \n",
    "    # train the model \"epochs\" times\n",
    "    model.fit(\n",
    "        X_train_scaled, y_train,\n",
    "        epochs=200,\n",
    "        verbose=0\n",
    "    )\n",
    "    # threshold 0.5 because we are in a binary class example\n",
    "\n",
    "    # fraction of misclassified outputs in the TRAINING SET\n",
    "    y_predicted = model.predict(X_train_scaled)\n",
    "    y_predicted = tf.math.sigmoid(y_predicted) # classify above or below the threshold\n",
    "    # classic way of calculating the error in a classification case\n",
    "    y_predicted = np.where(y_predicted>=0.5,1,0)\n",
    "    error = np.mean(y_predicted != y_train) # arithmetic mean, where the numerator is the count of wrong predictions\n",
    "    train_errors.append(error)\n",
    "    \n",
    "    # fraction of misclassified outputs in the CV SET\n",
    "    y_predicted = model.predict(X_cv_scaled)\n",
    "    y_predicted = tf.math.sigmoid(y_predicted) \n",
    "    y_predicted = np.where(y_predicted>=0.5,1,0)\n",
    "    error2 = np.mean(y_predicted != y_cv) # arithmetic mean, where the numerator is the count of wrong predictions\n",
    "    cv_errors.append(error2)\n",
    "    \n",
    "# Print the result\n",
    "for model_num in range(len(train_errors)):\n",
    "    print(\n",
    "        f\"Model {model_num+1}: Training Set Classification Error: {train_errors[model_num]:.5f}, \" +\n",
    "        f\"CV Set Classification Error: {cv_errors[model_num]:.5f}\"\n",
    "        )"
   ]
  },
  {
   "cell_type": "code",
   "execution_count": null,
   "id": "934823b1-4a87-40a1-a916-b4ff9323ee44",
   "metadata": {},
   "outputs": [],
   "source": []
  }
 ],
 "metadata": {
  "kernelspec": {
   "display_name": "Python 3 (ipykernel)",
   "language": "python",
   "name": "python3"
  },
  "language_info": {
   "codemirror_mode": {
    "name": "ipython",
    "version": 3
   },
   "file_extension": ".py",
   "mimetype": "text/x-python",
   "name": "python",
   "nbconvert_exporter": "python",
   "pygments_lexer": "ipython3",
   "version": "3.12.0"
  }
 },
 "nbformat": 4,
 "nbformat_minor": 5
}
