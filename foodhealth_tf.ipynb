{
 "cells": [
  {
   "cell_type": "code",
   "execution_count": 1,
   "id": "bb686513-c43a-499c-ad90-1a23c59d478d",
   "metadata": {},
   "outputs": [],
   "source": [
    "import numpy as np # arrays & loading data\n",
    "\n",
    "from sklearn.model_selection import train_test_split # we will split the data in 3 (training + counter variation + testing data)\n",
    "from sklearn.preprocessing import StandardScaler # z-score normalization & polynomianls classes \n",
    "\n",
    "import tensorflow as tf # for building and training neural networks\n",
    "\n",
    "from utils import build_models "
   ]
  },
  {
   "cell_type": "code",
   "execution_count": 2,
   "id": "97cd937f-f178-4afe-bd8f-b075ffb4d6d0",
   "metadata": {},
   "outputs": [
    {
     "name": "stdout",
     "output_type": "stream",
     "text": [
      "shape of input X is: (25, 3)\n",
      "shape of output y is: (25, 1)\n"
     ]
    }
   ],
   "source": [
    "# loading all the data\n",
    "data = np.loadtxt('./food_data.csv', delimiter=',', skiprows=1, usecols=range(1, 5))\n",
    "\n",
    "X = data[:,:-1] # forming the input and output \n",
    "y= data[:,-1]\n",
    "\n",
    "y= np.expand_dims(y, axis=1) # make y 2D - the commands later will require it\n",
    "\n",
    "print(f\"shape of input X is: {X.shape}\")\n",
    "print(f\"shape of output y is: {y.shape}\")"
   ]
  },
  {
   "cell_type": "code",
   "execution_count": 3,
   "id": "f5ba29e0-6f81-4e6c-83e1-37f318bb9e46",
   "metadata": {},
   "outputs": [
    {
     "name": "stdout",
     "output_type": "stream",
     "text": [
      "training input shape:(15, 3)\n",
      "training output shape:(15, 1)\n",
      "cv input shape:(5, 3)\n",
      "cv output shape:(5, 1)\n",
      "test input shape:(5, 3)\n",
      "test output shape:(5, 1)\n"
     ]
    }
   ],
   "source": [
    "# split into training , cross validation and test sets\n",
    "\n",
    "# TRAINING SET - 60%\n",
    "X_train, X_temporary, y_train, y_temporary = train_test_split(X, y, test_size=0.40, random_state=1)\n",
    "\n",
    "# the rest of 40% - CV SET(20%) and TEST SET(20%)\n",
    "X_cv, X_test, y_cv, y_test = train_test_split(X_temporary, y_temporary, test_size=0.50, random_state=1)\n",
    "del X_temporary, y_temporary\n",
    "\n",
    "print(f\"training input shape:{X_train.shape}\")\n",
    "print(f\"training output shape:{y_train.shape}\")\n",
    "print(f\"cv input shape:{X_cv.shape}\")\n",
    "print(f\"cv output shape:{y_cv.shape}\")\n",
    "print(f\"test input shape:{X_test.shape}\")\n",
    "print(f\"test output shape:{y_test.shape}\")"
   ]
  },
  {
   "cell_type": "code",
   "execution_count": 4,
   "id": "45b0f7db-8b39-4be6-be91-78f8ed612c82",
   "metadata": {},
   "outputs": [],
   "source": [
    "# TRAINING DATA, CV DATA & TEST DATA OPERATIONS\n",
    "# applying z-score to all the training data - make it compact for the algorithms to work better\n",
    "standard_scaler = StandardScaler()\n",
    "X_train_scaled = standard_scaler.fit_transform(X_train)\n",
    "X_cv_scaled = standard_scaler.transform(X_cv) \n",
    "X_test_scaled = standard_scaler.transform(X_test)"
   ]
  },
  {
   "cell_type": "code",
   "execution_count": 5,
   "id": "842434c0-ee1b-425f-b43c-08c32f86cd9a",
   "metadata": {},
   "outputs": [
    {
     "name": "stdout",
     "output_type": "stream",
     "text": [
      "[<Sequential name=model_1, built=False>, <Sequential name=model_2, built=False>, <Sequential name=model_3, built=False>, <Sequential name=model_4, built=False>, <Sequential name=model_5, built=False>]\n"
     ]
    }
   ],
   "source": [
    "# calculate errors for some models and chose the one with the best neural network\n",
    "train_errors=[]\n",
    "cv_errors=[]    # initialize lists that will contain a history of error numbers at each iteration\n",
    "\n",
    "# this is the list of all the models we will check\n",
    "models = build_models()\n",
    "print(models)"
   ]
  },
  {
   "cell_type": "code",
   "execution_count": null,
   "id": "222e1843-0a41-4075-a95f-8ce078ae2cc9",
   "metadata": {},
   "outputs": [],
   "source": []
  }
 ],
 "metadata": {
  "kernelspec": {
   "display_name": "Python 3 (ipykernel)",
   "language": "python",
   "name": "python3"
  },
  "language_info": {
   "codemirror_mode": {
    "name": "ipython",
    "version": 3
   },
   "file_extension": ".py",
   "mimetype": "text/x-python",
   "name": "python",
   "nbconvert_exporter": "python",
   "pygments_lexer": "ipython3",
   "version": "3.12.0"
  }
 },
 "nbformat": 4,
 "nbformat_minor": 5
}
